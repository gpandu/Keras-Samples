{
  "nbformat": 4,
  "nbformat_minor": 0,
  "metadata": {
    "colab": {
      "name": "Handson0.ipynb",
      "version": "0.3.2",
      "provenance": [],
      "collapsed_sections": []
    },
    "kernelspec": {
      "name": "python2",
      "display_name": "Python 2"
    }
  },
  "cells": [
    {
      "metadata": {
        "id": "5xPxmz-jCVCf",
        "colab_type": "code",
        "colab": {
          "base_uri": "https://localhost:8080/",
          "height": 1407
        },
        "outputId": "ba37641a-0cb4-47df-bd82-73f8b6416a46"
      },
      "cell_type": "code",
      "source": [
        "import datetime\n",
        "import keras\n",
        "from keras.datasets import mnist\n",
        "from keras.models import Sequential\n",
        "from keras.layers import Dense, Dropout, Activation, Flatten, Input\n",
        "from keras.layers import Conv2D, MaxPooling2D\n",
        "from keras import backend as K\n",
        "from keras.models import Model\n",
        "import matplotlib.pyplot as plt\n",
        "\n",
        "\n",
        "now = datetime.datetime.now\n",
        "\n",
        "batch_size = 128\n",
        "num_classes = 10\n",
        "epochs = 20\n",
        "\n",
        "# the data, split between train and test sets\n",
        "(x_train, y_train), (x_test, y_test) = mnist.load_data()\n",
        "print(x_train.shape)\n",
        "print(x_train.dtype)\n",
        "%matplotlib inline\n",
        "plt.imshow(x_train[2])\n",
        "plt.show()\n",
        "\n",
        "x_train = x_train.reshape(60000, 784)\n",
        "x_test = x_test.reshape(10000, 784)\n",
        "x_train = x_train.astype('float32')\n",
        "x_test = x_test.astype('float32')\n",
        "x_train /= 255\n",
        "x_test /= 255\n",
        "\n",
        "\n",
        "# convert class vectors to binary class matrices\n",
        "y_train = keras.utils.to_categorical(y_train, num_classes)\n",
        "y_test = keras.utils.to_categorical(y_test, num_classes)\n",
        "\n",
        "print(x_train.shape[1], 'training sample')\n",
        "print(y_test[1], 'test labels')\n",
        "\n",
        "Input = Input(shape=(x_train.shape[1],))\n",
        "layer = Dense(64, activation='relu')(Input)\n",
        "layer = Dense(64, activation='relu')(layer)\n",
        "predictions = Dense(10, activation='softmax')(layer)\n",
        "\n",
        "# This creates a model that includes\n",
        "# the Input layer and three Dense layers\n",
        "model = Model(inputs=Input, outputs=predictions)\n",
        "print(model.summary())\n",
        "import pdb; pdb.set_trace()\n",
        "model.compile(optimizer='rmsprop',\n",
        "              loss='categorical_crossentropy',\n",
        "              metrics=['accuracy'])\n",
        "model.fit(x_train, y_train, batch_size=batch_size,\n",
        "                    epochs=epochs)  # starts training\n",
        "score = model.evaluate(x_test, y_test, verbose=0)\n",
        "print('Test loss:', score[0])\n",
        "print('Test accuracy:', score[1])\n",
        "\n",
        "\n",
        "\n",
        "\n",
        "\n",
        "\n"
      ],
      "execution_count": 9,
      "outputs": [
        {
          "output_type": "stream",
          "text": [
            "(60000, 28, 28)\n",
            "uint8\n"
          ],
          "name": "stdout"
        },
        {
          "output_type": "display_data",
          "data": {
            "image/png": "[encoded data removed]",
            "text/plain": [
              "<matplotlib.figure.Figure at 0x7f0e34a1a6d0>"
            ]
          },
          "metadata": {
            "tags": []
          }
        },
        {
          "output_type": "stream",
          "text": [
            "(784, 'training sample')\n",
            "(array([0., 0., 1., 0., 0., 0., 0., 0., 0., 0.], dtype=float32), 'test labels')\n",
            "_________________________________________________________________\n",
            "Layer (type)                 Output Shape              Param #   \n",
            "=================================================================\n",
            "input_4 (InputLayer)         (None, 784)               0         \n",
            "_________________________________________________________________\n",
            "dense_10 (Dense)             (None, 64)                50240     \n",
            "_________________________________________________________________\n",
            "dense_11 (Dense)             (None, 64)                4160      \n",
            "_________________________________________________________________\n",
            "dense_12 (Dense)             (None, 10)                650       \n",
            "=================================================================\n",
            "Total params: 55,050\n",
            "Trainable params: 55,050\n",
            "Non-trainable params: 0\n",
            "_________________________________________________________________\n",
            "None\n",
            "--Return--\n",
            "> <ipython-input-9-62bc28f480ed>(50)<module>()->None\n",
            "-> import pdb; pdb.set_trace()\n",
            "(Pdb) c\n",
            "Epoch 1/20\n",
            "60000/60000 [==============================] - 2s 26us/step - loss: 0.3819 - acc: 0.8953\n",
            "Epoch 2/20\n",
            "60000/60000 [==============================] - 1s 23us/step - loss: 0.1835 - acc: 0.9465\n",
            "Epoch 3/20\n",
            "40832/60000 [===================>..........] - ETA: 0s - loss: 0.1351 - acc: 0.9606"
          ],
          "name": "stdout"
        },
        {
          "output_type": "stream",
          "text": [
            "60000/60000 [==============================] - 1s 23us/step - loss: 0.1330 - acc: 0.9610\n",
            "Epoch 4/20\n",
            "60000/60000 [==============================] - 1s 22us/step - loss: 0.1036 - acc: 0.9693\n",
            "Epoch 5/20\n",
            "60000/60000 [==============================] - 1s 22us/step - loss: 0.0864 - acc: 0.9743\n",
            "Epoch 6/20\n",
            "60000/60000 [==============================] - 1s 23us/step - loss: 0.0736 - acc: 0.9782\n",
            "Epoch 7/20\n",
            "60000/60000 [==============================] - 1s 23us/step - loss: 0.0630 - acc: 0.9811\n",
            "Epoch 8/20\n",
            "60000/60000 [==============================] - 1s 23us/step - loss: 0.0561 - acc: 0.9831\n",
            "Epoch 9/20\n",
            "60000/60000 [==============================] - 1s 23us/step - loss: 0.0496 - acc: 0.9847\n",
            "Epoch 10/20\n",
            "60000/60000 [==============================] - 1s 23us/step - loss: 0.0440 - acc: 0.9869\n",
            "Epoch 11/20\n",
            " 9344/60000 [===>..........................] - ETA: 1s - loss: 0.0335 - acc: 0.9895"
          ],
          "name": "stdout"
        },
        {
          "output_type": "stream",
          "text": [
            "60000/60000 [==============================] - 1s 22us/step - loss: 0.0393 - acc: 0.9880\n",
            "Epoch 12/20\n",
            "60000/60000 [==============================] - 1s 22us/step - loss: 0.0342 - acc: 0.9899\n",
            "Epoch 13/20\n",
            "60000/60000 [==============================] - 1s 22us/step - loss: 0.0315 - acc: 0.9906\n",
            "Epoch 14/20\n",
            "60000/60000 [==============================] - 1s 23us/step - loss: 0.0283 - acc: 0.9910\n",
            "Epoch 15/20\n",
            "60000/60000 [==============================] - 1s 22us/step - loss: 0.0252 - acc: 0.9926\n",
            "Epoch 16/20\n",
            "60000/60000 [==============================] - 1s 23us/step - loss: 0.0225 - acc: 0.9931\n",
            "Epoch 17/20\n",
            "60000/60000 [==============================] - 1s 23us/step - loss: 0.0208 - acc: 0.9938\n",
            "Epoch 18/20\n",
            "60000/60000 [==============================] - 1s 23us/step - loss: 0.0185 - acc: 0.9945\n",
            "Epoch 19/20\n",
            " 4608/60000 [=>............................] - ETA: 1s - loss: 0.0173 - acc: 0.9952"
          ],
          "name": "stdout"
        },
        {
          "output_type": "stream",
          "text": [
            "60000/60000 [==============================] - 1s 23us/step - loss: 0.0171 - acc: 0.9947\n",
            "Epoch 20/20\n",
            "60000/60000 [==============================] - 1s 23us/step - loss: 0.0152 - acc: 0.9956\n",
            "('Test loss:', 0.10042614299047163)\n",
            "('Test accuracy:', 0.9769)\n"
          ],
          "name": "stdout"
        }
      ]
    },
    {
      "metadata": {
        "id": "duZ-ucnNVWZO",
        "colab_type": "code",
        "colab": {}
      },
      "cell_type": "code",
      "source": [
        "import tensorflow as tf\n",
        "import numpy as np\n",
        "import keras as kr\n",
        "from IPython.core.debugger import set_trace\n",
        "\n",
        "\n",
        "\n",
        "A = np.array([[1,2,3,4],\n",
        "            [3,4,5,6],\n",
        "            [5,6,7,8]])\n",
        "\n",
        "#(train_images, train_labels), (test_images, test_labels) = tf.keras.datasets.mnist.load_data()\n",
        "#print(A)\n",
        "#import pdb; pdb.set_trace()\n",
        "cal = A.sum(axis=0)\n",
        "#print(type(cal))\n",
        "#print(cal)\n",
        "prc = 100*A/cal.reshape(1,4)\n",
        "#print(prc)\n",
        "b = np.array([[1,2,3,4]])\n",
        "#print(b.shape)\n",
        "\n",
        "gv = np.random.randn(5)\n",
        "#print(type(gv))\n",
        "\n",
        "#print(gv.T)\n",
        "#(gv.shape)\n",
        "\n",
        "xy = np.random.rand(1,10)\n",
        "print(xy)\n",
        "\n",
        "\n",
        "\n",
        "x = np.array([[1,2],[3,4]])\n",
        "y = np.array([[5,6],[7,8]])\n",
        "\n",
        "v = np.array([9,10])\n",
        "w = np.array([11, 12])\n",
        "\n",
        "# Inner product of vectors; both produce 219\n",
        "print(v.dot(w))\n",
        "print(np.dot(v, w))\n",
        "\n",
        "# Matrix / vector product; both produce the rank 1 array [29 67]\n",
        "#print(x.dot(v))\n",
        "#print(np.dot(x, v)\n"
      ],
      "execution_count": 0,
      "outputs": []
    },
    {
      "metadata": {
        "id": "Pur20asfRhi4",
        "colab_type": "code",
        "colab": {}
      },
      "cell_type": "code",
      "source": [
        ""
      ],
      "execution_count": 0,
      "outputs": []
    },
    {
      "metadata": {
        "id": "d_SkFYiFVB58",
        "colab_type": "text"
      },
      "cell_type": "markdown",
      "source": [
        ""
      ]
    }
  ]
}
