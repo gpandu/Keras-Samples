{
  "nbformat": 4,
  "nbformat_minor": 0,
  "metadata": {
    "colab": {
      "name": "Handson0.ipynb",
      "version": "0.3.2",
      "views": {},
      "default_view": {},
      "provenance": [],
      "collapsed_sections": []
    },
    "kernelspec": {
      "name": "python2",
      "display_name": "Python 2"
    }
  },
  "cells": [
    {
      "metadata": {
        "id": "5xPxmz-jCVCf",
        "colab_type": "code",
        "colab": {
          "autoexec": {
            "startup": false,
            "wait_interval": 0
          },
          "base_uri": "https://localhost:8080/",
          "height": 1159
        },
        "outputId": "0bed4d0b-8f3e-40ef-813b-a0864f126cd4",
        "executionInfo": {
          "status": "ok",
          "timestamp": 1530936930579,
          "user_tz": -330,
          "elapsed": 47193,
          "user": {
            "displayName": "Pandu Gugulothu",
            "photoUrl": "//lh6.googleusercontent.com/-r3TLUvxHeIA/AAAAAAAAAAI/AAAAAAAAADU/-mOIEyF7saY/s50-c-k-no/photo.jpg",
            "userId": "103303913943738873798"
          }
        }
      },
      "cell_type": "code",
      "source": [
        "import datetime\n",
        "import keras\n",
        "from keras.datasets import mnist\n",
        "from keras.models import Sequential\n",
        "from keras.layers import Dense, Dropout, Activation, Flatten, Input\n",
        "from keras.layers import Conv2D, MaxPooling2D\n",
        "from keras import backend as K\n",
        "from keras.models import Model\n",
        "\n",
        "now = datetime.datetime.now\n",
        "\n",
        "batch_size = 128\n",
        "num_classes = 10\n",
        "epochs = 20\n",
        "\n",
        "# the data, split between train and test sets\n",
        "(x_train, y_train), (x_test, y_test) = mnist.load_data()\n",
        "print(x_train.shape)\n",
        "print(x_train.dtype)\n",
        "\n",
        "x_train = x_train.reshape(60000, 784)\n",
        "x_test = x_test.reshape(10000, 784)\n",
        "x_train = x_train.astype('float32')\n",
        "x_test = x_test.astype('float32')\n",
        "x_train /= 255\n",
        "x_test /= 255\n",
        "\n",
        "\n",
        "# convert class vectors to binary class matrices\n",
        "y_train = keras.utils.to_categorical(y_train, num_classes)\n",
        "y_test = keras.utils.to_categorical(y_test, num_classes)\n",
        "\n",
        "print(x_train.shape[1], 'train samples')\n",
        "print(y_test[1], 'test samples')\n",
        "\n",
        "Input = Input(shape=(x_train.shape[1],))\n",
        "layer = Dense(64, activation='relu')(Input)\n",
        "layer = Dense(64, activation='relu')(layer)\n",
        "predictions = Dense(10, activation='softmax')(layer)\n",
        "\n",
        "# This creates a model that includes\n",
        "# the Input layer and three Dense layers\n",
        "model = Model(inputs=Input, outputs=predictions)\n",
        "print(model.summary())\n",
        "import pdb; pdb.set_trace()\n",
        "model.compile(optimizer='rmsprop',\n",
        "              loss='categorical_crossentropy',\n",
        "              metrics=['accuracy'])\n",
        "model.fit(x_train, y_train, batch_size=batch_size,\n",
        "                    epochs=epochs)  # starts training\n",
        "score = model.evaluate(x_test, y_test, verbose=0)\n",
        "print('Test loss:', score[0])\n",
        "print('Test accuracy:', score[1])\n",
        "\n",
        "\n",
        "\n",
        "\n",
        "\n",
        "\n"
      ],
      "execution_count": 15,
      "outputs": [
        {
          "output_type": "stream",
          "text": [
            "(60000, 28, 28)\n",
            "uint8\n",
            "(784, 'train samples')\n",
            "(array([0., 0., 1., 0., 0., 0., 0., 0., 0., 0.], dtype=float32), 'test samples')\n",
            "_________________________________________________________________\n",
            "Layer (type)                 Output Shape              Param #   \n",
            "=================================================================\n",
            "input_9 (InputLayer)         (None, 784)               0         \n",
            "_________________________________________________________________\n",
            "dense_24 (Dense)             (None, 64)                50240     \n",
            "_________________________________________________________________\n",
            "dense_25 (Dense)             (None, 64)                4160      \n",
            "_________________________________________________________________\n",
            "dense_26 (Dense)             (None, 10)                650       \n",
            "=================================================================\n",
            "Total params: 55,050\n",
            "Trainable params: 55,050\n",
            "Non-trainable params: 0\n",
            "_________________________________________________________________\n",
            "None\n",
            "--Return--\n",
            "> <ipython-input-15-37a2d0405c50>(45)<module>()->None\n",
            "-> import pdb; pdb.set_trace()\n",
            "(Pdb) c\n",
            "Epoch 1/20\n",
            "60000/60000 [==============================] - 2s 35us/step - loss: 0.3692 - acc: 0.8994\n",
            "Epoch 2/20\n",
            "60000/60000 [==============================] - 2s 29us/step - loss: 0.1741 - acc: 0.9498\n",
            "Epoch 3/20\n",
            " 6656/60000 [==>...........................] - ETA: 1s - loss: 0.1315 - acc: 0.9603"
          ],
          "name": "stdout"
        },
        {
          "output_type": "stream",
          "text": [
            "60000/60000 [==============================] - 2s 29us/step - loss: 0.1255 - acc: 0.9627\n",
            "Epoch 4/20\n",
            "60000/60000 [==============================] - 2s 28us/step - loss: 0.1006 - acc: 0.9702\n",
            "Epoch 5/20\n",
            "60000/60000 [==============================] - 2s 29us/step - loss: 0.0846 - acc: 0.9749\n",
            "Epoch 6/20\n",
            "60000/60000 [==============================] - 2s 29us/step - loss: 0.0719 - acc: 0.9778\n",
            "Epoch 7/20\n",
            "60000/60000 [==============================] - 2s 29us/step - loss: 0.0633 - acc: 0.9806\n",
            "Epoch 8/20\n",
            "60000/60000 [==============================] - 2s 29us/step - loss: 0.0547 - acc: 0.9832\n",
            "Epoch 9/20\n",
            "60000/60000 [==============================] - 2s 28us/step - loss: 0.0481 - acc: 0.9851\n",
            "Epoch 10/20\n",
            "14336/60000 [======>.......................] - ETA: 1s - loss: 0.0388 - acc: 0.9883"
          ],
          "name": "stdout"
        },
        {
          "output_type": "stream",
          "text": [
            "60000/60000 [==============================] - 2s 29us/step - loss: 0.0428 - acc: 0.9870\n",
            "Epoch 11/20\n",
            "60000/60000 [==============================] - 2s 30us/step - loss: 0.0374 - acc: 0.9880\n",
            "Epoch 12/20\n",
            "60000/60000 [==============================] - 2s 29us/step - loss: 0.0331 - acc: 0.9900\n",
            "Epoch 13/20\n",
            "60000/60000 [==============================] - 2s 30us/step - loss: 0.0304 - acc: 0.9903\n",
            "Epoch 14/20\n",
            "60000/60000 [==============================] - 2s 30us/step - loss: 0.0274 - acc: 0.9914\n",
            "Epoch 15/20\n",
            "60000/60000 [==============================] - 2s 30us/step - loss: 0.0239 - acc: 0.9922\n",
            "Epoch 16/20\n",
            "60000/60000 [==============================] - 2s 28us/step - loss: 0.0217 - acc: 0.9930\n",
            "Epoch 17/20\n",
            " 7680/60000 [==>...........................] - ETA: 1s - loss: 0.0155 - acc: 0.9947"
          ],
          "name": "stdout"
        },
        {
          "output_type": "stream",
          "text": [
            "60000/60000 [==============================] - 2s 28us/step - loss: 0.0199 - acc: 0.9938\n",
            "Epoch 18/20\n",
            "60000/60000 [==============================] - 2s 28us/step - loss: 0.0176 - acc: 0.9947\n",
            "Epoch 19/20\n",
            "60000/60000 [==============================] - 2s 28us/step - loss: 0.0155 - acc: 0.9950\n",
            "Epoch 20/20\n",
            "60000/60000 [==============================] - 2s 28us/step - loss: 0.0139 - acc: 0.9955\n",
            "('Test loss:', 0.12531400515138158)\n",
            "('Test accuracy:', 0.9753)\n"
          ],
          "name": "stdout"
        }
      ]
    },
    {
      "metadata": {
        "id": "BPamtTQ6Ehag",
        "colab_type": "code",
        "colab": {
          "autoexec": {
            "startup": false,
            "wait_interval": 0
          }
        }
      },
      "cell_type": "code",
      "source": [
        ""
      ],
      "execution_count": 0,
      "outputs": []
    },
    {
      "metadata": {
        "id": "Yy_6GT1jdTNi",
        "colab_type": "code",
        "colab": {
          "autoexec": {
            "startup": false,
            "wait_interval": 0
          }
        }
      },
      "cell_type": "code",
      "source": [
        ""
      ],
      "execution_count": 0,
      "outputs": []
    },
    {
      "metadata": {
        "id": "duZ-ucnNVWZO",
        "colab_type": "code",
        "colab": {
          "autoexec": {
            "startup": false,
            "wait_interval": 0
          }
        }
      },
      "cell_type": "code",
      "source": [
        "import tensorflow as tf\n",
        "import numpy as np\n",
        "import keras as kr\n",
        "from IPython.core.debugger import set_trace\n",
        "\n",
        "\n",
        "\n",
        "A = np.array([[1,2,3,4],\n",
        "            [3,4,5,6],\n",
        "            [5,6,7,8]])\n",
        "\n",
        "#(train_images, train_labels), (test_images, test_labels) = tf.keras.datasets.mnist.load_data()\n",
        "#print(A)\n",
        "#import pdb; pdb.set_trace()\n",
        "cal = A.sum(axis=0)\n",
        "#print(type(cal))\n",
        "#print(cal)\n",
        "prc = 100*A/cal.reshape(1,4)\n",
        "#print(prc)\n",
        "b = np.array([[1,2,3,4]])\n",
        "#print(b.shape)\n",
        "\n",
        "gv = np.random.randn(5)\n",
        "#print(type(gv))\n",
        "\n",
        "#print(gv.T)\n",
        "#(gv.shape)\n",
        "\n",
        "xy = np.random.rand(1,10)\n",
        "print(xy)\n",
        "\n",
        "\n",
        "\n",
        "x = np.array([[1,2],[3,4]])\n",
        "y = np.array([[5,6],[7,8]])\n",
        "\n",
        "v = np.array([9,10])\n",
        "w = np.array([11, 12])\n",
        "\n",
        "# Inner product of vectors; both produce 219\n",
        "print(v.dot(w))\n",
        "print(np.dot(v, w))\n",
        "\n",
        "# Matrix / vector product; both produce the rank 1 array [29 67]\n",
        "#print(x.dot(v))\n",
        "#print(np.dot(x, v)\n"
      ],
      "execution_count": 0,
      "outputs": []
    },
    {
      "metadata": {
        "id": "Pur20asfRhi4",
        "colab_type": "code",
        "colab": {
          "autoexec": {
            "startup": false,
            "wait_interval": 0
          }
        }
      },
      "cell_type": "code",
      "source": [
        ""
      ],
      "execution_count": 0,
      "outputs": []
    },
    {
      "metadata": {
        "id": "d_SkFYiFVB58",
        "colab_type": "text"
      },
      "cell_type": "markdown",
      "source": [
        ""
      ]
    }
  ]
}